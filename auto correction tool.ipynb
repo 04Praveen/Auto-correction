{
 "cells": [
  {
   "cell_type": "code",
   "execution_count": 1,
   "id": "cd38aa2e-667d-407a-8290-948aff3ccfd9",
   "metadata": {},
   "outputs": [
    {
     "name": "stderr",
     "output_type": "stream",
     "text": [
      "[nltk_data] Error loading words: <urlopen error [Errno 99] Cannot\n",
      "[nltk_data]     assign requested address>\n"
     ]
    },
    {
     "name": "stdin",
     "output_type": "stream",
     "text": [
      "Enter Your Vocabulary:  lappy\n"
     ]
    },
    {
     "name": "stdout",
     "output_type": "stream",
     "text": [
      "Input: lappy, Corrected: loppy\n"
     ]
    }
   ],
   "source": [
    "import nltk\n",
    "from nltk.corpus import words\n",
    "from nltk.metrics import edit_distance\n",
    "\n",
    "# Download NLTK resources (if not already downloaded)\n",
    "nltk.download('words')\n",
    "\n",
    "# Get a list of English words\n",
    "english_words = set(words.words())\n",
    "\n",
    "def correct_word(word):\n",
    "    if word in english_words:\n",
    "        return word\n",
    "\n",
    "    suggestions = []\n",
    "    for eng_word in english_words:\n",
    "        distance = edit_distance(word, eng_word)\n",
    "        suggestions.append((eng_word, distance))\n",
    "    \n",
    "    suggestions.sort(key=lambda x: x[1])\n",
    "    \n",
    "    return suggestions[0][0]\n",
    "\n",
    "# Test the correct_word function\n",
    "input_word = input(\"Enter Your Vocabulary: \")\n",
    "corrected_word = correct_word(input_word)\n",
    "print(f\"Input: {input_word}, Corrected: {corrected_word}\")"
   ]
  },
  {
   "cell_type": "code",
   "execution_count": null,
   "id": "1a3c64f1-027f-4de9-85f4-57bfe9c4517b",
   "metadata": {},
   "outputs": [],
   "source": []
  }
 ],
 "metadata": {
  "kernelspec": {
   "display_name": "Python 3 (system-wide)",
   "language": "python",
   "name": "python3"
  },
  "language_info": {
   "codemirror_mode": {
    "name": "ipython",
    "version": 3
   },
   "file_extension": ".py",
   "mimetype": "text/x-python",
   "name": "python",
   "nbconvert_exporter": "python",
   "pygments_lexer": "ipython3",
   "version": "3.10.6"
  }
 },
 "nbformat": 4,
 "nbformat_minor": 5
}
